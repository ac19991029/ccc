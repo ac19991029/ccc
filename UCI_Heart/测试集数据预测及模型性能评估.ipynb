{
 "cells": [
  {
   "cell_type": "code",
   "execution_count": 2,
   "metadata": {},
   "outputs": [
    {
     "data": {
      "text/plain": [
       "RandomForestClassifier(max_depth=5, random_state=5)"
      ]
     },
     "execution_count": 2,
     "metadata": {},
     "output_type": "execute_result"
    }
   ],
   "source": [
    "import numpy as np\n",
    "import pandas as pd\n",
    "\n",
    "import matplotlib.pyplot as plt\n",
    "%matplotlib inline\n",
    "\n",
    "import warnings\n",
    "warnings.filterwarnings(\"ignore\")\n",
    "\n",
    "df=pd.read_csv('process_heart.csv')\n",
    "X=df.drop('target',axis=1)\n",
    "y=df['target']\n",
    "\n",
    "\n",
    "#划分训练集和数据集\n",
    "from sklearn.model_selection import  train_test_split\n",
    "\n",
    "X_train,X_test,y_train,y_test=train_test_split(X,y,test_size=0.2,random_state=10)\n",
    "\n",
    "#构架随机森林模型\n",
    "from sklearn.ensemble import RandomForestClassifier\n",
    "model=RandomForestClassifier(max_depth=5,n_estimators=100,random_state=5)\n",
    "model.fit(X_train,y_train)"
   ]
  },
  {
   "cell_type": "markdown",
   "metadata": {},
   "source": [
    "# 查看测试集"
   ]
  },
  {
   "cell_type": "code",
   "execution_count": 3,
   "metadata": {},
   "outputs": [
    {
     "data": {
      "text/plain": [
       "(61, 26)"
      ]
     },
     "execution_count": 3,
     "metadata": {},
     "output_type": "execute_result"
    }
   ],
   "source": [
    "X_test.shape"
   ]
  },
  {
   "cell_type": "code",
   "execution_count": 4,
   "metadata": {},
   "outputs": [
    {
     "data": {
      "text/html": [
       "<div>\n",
       "<style scoped>\n",
       "    .dataframe tbody tr th:only-of-type {\n",
       "        vertical-align: middle;\n",
       "    }\n",
       "\n",
       "    .dataframe tbody tr th {\n",
       "        vertical-align: top;\n",
       "    }\n",
       "\n",
       "    .dataframe thead th {\n",
       "        text-align: right;\n",
       "    }\n",
       "</style>\n",
       "<table border=\"1\" class=\"dataframe\">\n",
       "  <thead>\n",
       "    <tr style=\"text-align: right;\">\n",
       "      <th></th>\n",
       "      <th>age</th>\n",
       "      <th>resting_blood_pressure</th>\n",
       "      <th>cholesterol</th>\n",
       "      <th>max_heart_rate_achieved</th>\n",
       "      <th>st_depression</th>\n",
       "      <th>num_major_vessels</th>\n",
       "      <th>sex_female</th>\n",
       "      <th>sex_male</th>\n",
       "      <th>chest_pain_type_asymptomatic</th>\n",
       "      <th>chest_pain_type_atypical angina</th>\n",
       "      <th>...</th>\n",
       "      <th>rest_ecg_normal</th>\n",
       "      <th>exercise_induced_angina_1</th>\n",
       "      <th>exercise_induced_angina_no</th>\n",
       "      <th>st_slope_downsloping</th>\n",
       "      <th>st_slope_flat</th>\n",
       "      <th>st_slope_upsloping</th>\n",
       "      <th>thalassemia_fixed defect</th>\n",
       "      <th>thalassemia_normal</th>\n",
       "      <th>thalassemia_reversable defect</th>\n",
       "      <th>thalassemia_unknow</th>\n",
       "    </tr>\n",
       "  </thead>\n",
       "  <tbody>\n",
       "    <tr>\n",
       "      <th>246</th>\n",
       "      <td>56</td>\n",
       "      <td>134</td>\n",
       "      <td>409</td>\n",
       "      <td>150</td>\n",
       "      <td>1.9</td>\n",
       "      <td>2</td>\n",
       "      <td>1</td>\n",
       "      <td>0</td>\n",
       "      <td>0</td>\n",
       "      <td>0</td>\n",
       "      <td>...</td>\n",
       "      <td>1</td>\n",
       "      <td>1</td>\n",
       "      <td>0</td>\n",
       "      <td>0</td>\n",
       "      <td>1</td>\n",
       "      <td>0</td>\n",
       "      <td>0</td>\n",
       "      <td>0</td>\n",
       "      <td>1</td>\n",
       "      <td>0</td>\n",
       "    </tr>\n",
       "    <tr>\n",
       "      <th>183</th>\n",
       "      <td>58</td>\n",
       "      <td>112</td>\n",
       "      <td>230</td>\n",
       "      <td>165</td>\n",
       "      <td>2.5</td>\n",
       "      <td>1</td>\n",
       "      <td>0</td>\n",
       "      <td>1</td>\n",
       "      <td>0</td>\n",
       "      <td>0</td>\n",
       "      <td>...</td>\n",
       "      <td>1</td>\n",
       "      <td>0</td>\n",
       "      <td>1</td>\n",
       "      <td>0</td>\n",
       "      <td>1</td>\n",
       "      <td>0</td>\n",
       "      <td>0</td>\n",
       "      <td>0</td>\n",
       "      <td>1</td>\n",
       "      <td>0</td>\n",
       "    </tr>\n",
       "    <tr>\n",
       "      <th>229</th>\n",
       "      <td>64</td>\n",
       "      <td>125</td>\n",
       "      <td>309</td>\n",
       "      <td>131</td>\n",
       "      <td>1.8</td>\n",
       "      <td>0</td>\n",
       "      <td>0</td>\n",
       "      <td>1</td>\n",
       "      <td>0</td>\n",
       "      <td>0</td>\n",
       "      <td>...</td>\n",
       "      <td>0</td>\n",
       "      <td>1</td>\n",
       "      <td>0</td>\n",
       "      <td>0</td>\n",
       "      <td>1</td>\n",
       "      <td>0</td>\n",
       "      <td>0</td>\n",
       "      <td>0</td>\n",
       "      <td>1</td>\n",
       "      <td>0</td>\n",
       "    </tr>\n",
       "    <tr>\n",
       "      <th>126</th>\n",
       "      <td>47</td>\n",
       "      <td>112</td>\n",
       "      <td>204</td>\n",
       "      <td>143</td>\n",
       "      <td>0.1</td>\n",
       "      <td>0</td>\n",
       "      <td>0</td>\n",
       "      <td>1</td>\n",
       "      <td>0</td>\n",
       "      <td>0</td>\n",
       "      <td>...</td>\n",
       "      <td>0</td>\n",
       "      <td>0</td>\n",
       "      <td>1</td>\n",
       "      <td>1</td>\n",
       "      <td>0</td>\n",
       "      <td>0</td>\n",
       "      <td>1</td>\n",
       "      <td>0</td>\n",
       "      <td>0</td>\n",
       "      <td>0</td>\n",
       "    </tr>\n",
       "    <tr>\n",
       "      <th>184</th>\n",
       "      <td>50</td>\n",
       "      <td>150</td>\n",
       "      <td>243</td>\n",
       "      <td>128</td>\n",
       "      <td>2.6</td>\n",
       "      <td>0</td>\n",
       "      <td>0</td>\n",
       "      <td>1</td>\n",
       "      <td>0</td>\n",
       "      <td>0</td>\n",
       "      <td>...</td>\n",
       "      <td>1</td>\n",
       "      <td>0</td>\n",
       "      <td>1</td>\n",
       "      <td>0</td>\n",
       "      <td>1</td>\n",
       "      <td>0</td>\n",
       "      <td>0</td>\n",
       "      <td>0</td>\n",
       "      <td>1</td>\n",
       "      <td>0</td>\n",
       "    </tr>\n",
       "  </tbody>\n",
       "</table>\n",
       "<p>5 rows × 26 columns</p>\n",
       "</div>"
      ],
      "text/plain": [
       "     age  resting_blood_pressure  cholesterol  max_heart_rate_achieved  \\\n",
       "246   56                     134          409                      150   \n",
       "183   58                     112          230                      165   \n",
       "229   64                     125          309                      131   \n",
       "126   47                     112          204                      143   \n",
       "184   50                     150          243                      128   \n",
       "\n",
       "     st_depression  num_major_vessels  sex_female  sex_male  \\\n",
       "246            1.9                  2           1         0   \n",
       "183            2.5                  1           0         1   \n",
       "229            1.8                  0           0         1   \n",
       "126            0.1                  0           0         1   \n",
       "184            2.6                  0           0         1   \n",
       "\n",
       "     chest_pain_type_asymptomatic  chest_pain_type_atypical angina  ...  \\\n",
       "246                             0                                0  ...   \n",
       "183                             0                                0  ...   \n",
       "229                             0                                0  ...   \n",
       "126                             0                                0  ...   \n",
       "184                             0                                0  ...   \n",
       "\n",
       "     rest_ecg_normal  exercise_induced_angina_1  exercise_induced_angina_no  \\\n",
       "246                1                          1                           0   \n",
       "183                1                          0                           1   \n",
       "229                0                          1                           0   \n",
       "126                0                          0                           1   \n",
       "184                1                          0                           1   \n",
       "\n",
       "     st_slope_downsloping  st_slope_flat  st_slope_upsloping  \\\n",
       "246                     0              1                   0   \n",
       "183                     0              1                   0   \n",
       "229                     0              1                   0   \n",
       "126                     1              0                   0   \n",
       "184                     0              1                   0   \n",
       "\n",
       "     thalassemia_fixed defect  thalassemia_normal  \\\n",
       "246                         0                   0   \n",
       "183                         0                   0   \n",
       "229                         0                   0   \n",
       "126                         1                   0   \n",
       "184                         0                   0   \n",
       "\n",
       "     thalassemia_reversable defect  thalassemia_unknow  \n",
       "246                              1                   0  \n",
       "183                              1                   0  \n",
       "229                              1                   0  \n",
       "126                              0                   0  \n",
       "184                              1                   0  \n",
       "\n",
       "[5 rows x 26 columns]"
      ]
     },
     "execution_count": 4,
     "metadata": {},
     "output_type": "execute_result"
    }
   ],
   "source": [
    "X_test.head()"
   ]
  },
  {
   "cell_type": "markdown",
   "metadata": {},
   "source": [
    "# 筛选出某一个未知样本"
   ]
  },
  {
   "cell_type": "code",
   "execution_count": 5,
   "metadata": {},
   "outputs": [
    {
     "data": {
      "text/plain": [
       "age                                           64.0\n",
       "resting_blood_pressure                       125.0\n",
       "cholesterol                                  309.0\n",
       "max_heart_rate_achieved                      131.0\n",
       "st_depression                                  1.8\n",
       "num_major_vessels                              0.0\n",
       "sex_female                                     0.0\n",
       "sex_male                                       1.0\n",
       "chest_pain_type_asymptomatic                   0.0\n",
       "chest_pain_type_atypical angina                0.0\n",
       "chest_pain_type_non-anginal pain               1.0\n",
       "chest_pain_type_typical angina                 0.0\n",
       "fasting_blood_sugar_greater than 120mg/ml      0.0\n",
       "fasting_blood_sugar_lower than 120mg/ml        1.0\n",
       "rest_ecg_ST-T wave abnormality                 1.0\n",
       "rest_ecg_left ventricular hypertrophy          0.0\n",
       "rest_ecg_normal                                0.0\n",
       "exercise_induced_angina_1                      1.0\n",
       "exercise_induced_angina_no                     0.0\n",
       "st_slope_downsloping                           0.0\n",
       "st_slope_flat                                  1.0\n",
       "st_slope_upsloping                             0.0\n",
       "thalassemia_fixed defect                       0.0\n",
       "thalassemia_normal                             0.0\n",
       "thalassemia_reversable defect                  1.0\n",
       "thalassemia_unknow                             0.0\n",
       "Name: 229, dtype: float64"
      ]
     },
     "execution_count": 5,
     "metadata": {},
     "output_type": "execute_result"
    }
   ],
   "source": [
    "#挑出索引值为2的样本\n",
    "X_test.iloc[2]"
   ]
  },
  {
   "cell_type": "code",
   "execution_count": 6,
   "metadata": {},
   "outputs": [
    {
     "data": {
      "text/plain": [
       "(26,)"
      ]
     },
     "execution_count": 6,
     "metadata": {},
     "output_type": "execute_result"
    }
   ],
   "source": [
    "test_sample=X_test.iloc[2]\n",
    "test_sample.shape"
   ]
  },
  {
   "cell_type": "code",
   "execution_count": 7,
   "metadata": {},
   "outputs": [],
   "source": [
    "#转化为矩阵\n",
    "test_sample=np.array(test_sample).reshape(1,-1)"
   ]
  },
  {
   "cell_type": "code",
   "execution_count": 8,
   "metadata": {},
   "outputs": [
    {
     "data": {
      "text/plain": [
       "array([[ 64. , 125. , 309. , 131. ,   1.8,   0. ,   0. ,   1. ,   0. ,\n",
       "          0. ,   1. ,   0. ,   0. ,   1. ,   1. ,   0. ,   0. ,   1. ,\n",
       "          0. ,   0. ,   1. ,   0. ,   0. ,   0. ,   1. ,   0. ]])"
      ]
     },
     "execution_count": 8,
     "metadata": {},
     "output_type": "execute_result"
    }
   ],
   "source": [
    "test_sample"
   ]
  },
  {
   "cell_type": "code",
   "execution_count": 9,
   "metadata": {},
   "outputs": [
    {
     "data": {
      "text/plain": [
       "(1, 26)"
      ]
     },
     "execution_count": 9,
     "metadata": {},
     "output_type": "execute_result"
    }
   ],
   "source": [
    "test_sample.shape"
   ]
  },
  {
   "cell_type": "markdown",
   "metadata": {},
   "source": [
    "# 预测筛选出的单个未知样本"
   ]
  },
  {
   "cell_type": "code",
   "execution_count": 10,
   "metadata": {},
   "outputs": [
    {
     "data": {
      "text/plain": [
       "array([0], dtype=int64)"
      ]
     },
     "execution_count": 10,
     "metadata": {},
     "output_type": "execute_result"
    }
   ],
   "source": [
    "# 二分类定性分类结果\n",
    "model.predict(test_sample)"
   ]
  },
  {
   "cell_type": "code",
   "execution_count": 12,
   "metadata": {},
   "outputs": [
    {
     "data": {
      "text/plain": [
       "array([[0.62338459, 0.37661541]])"
      ]
     },
     "execution_count": 12,
     "metadata": {},
     "output_type": "execute_result"
    }
   ],
   "source": [
    "#二分类定量分类结果\n",
    "model.predict_proba(test_sample)"
   ]
  },
  {
   "cell_type": "markdown",
   "metadata": {},
   "source": [
    "# 预测测试集上全部数据"
   ]
  },
  {
   "cell_type": "code",
   "execution_count": 15,
   "metadata": {},
   "outputs": [
    {
     "data": {
      "text/plain": [
       "array([0, 0, 0, 1, 0, 1, 1, 1, 1, 0, 1, 0, 1, 1, 0, 1, 0, 0, 1, 0, 0, 1,\n",
       "       1, 1, 0, 0, 0, 0, 1, 0, 1, 0, 0, 0, 0, 0, 1, 0, 1, 0, 0, 0, 1, 0,\n",
       "       1, 0, 1, 1, 1, 0, 1, 1, 0, 0, 1, 1, 1, 1, 0, 0, 1], dtype=int64)"
      ]
     },
     "execution_count": 15,
     "metadata": {},
     "output_type": "execute_result"
    }
   ],
   "source": [
    "model.predict(X_test)"
   ]
  },
  {
   "cell_type": "code",
   "execution_count": 16,
   "metadata": {},
   "outputs": [
    {
     "data": {
      "text/plain": [
       "array([[0.90341673, 0.09658327],\n",
       "       [0.65146111, 0.34853889],\n",
       "       [0.62338459, 0.37661541],\n",
       "       [0.23269383, 0.76730617],\n",
       "       [0.70921534, 0.29078466],\n",
       "       [0.26094227, 0.73905773],\n",
       "       [0.38552409, 0.61447591],\n",
       "       [0.30809576, 0.69190424],\n",
       "       [0.09118795, 0.90881205],\n",
       "       [0.84961624, 0.15038376],\n",
       "       [0.05053297, 0.94946703],\n",
       "       [0.8352881 , 0.1647119 ],\n",
       "       [0.41842278, 0.58157722],\n",
       "       [0.14237312, 0.85762688],\n",
       "       [0.80799714, 0.19200286],\n",
       "       [0.16244298, 0.83755702],\n",
       "       [0.85266735, 0.14733265],\n",
       "       [0.99465124, 0.00534876],\n",
       "       [0.3577463 , 0.6422537 ],\n",
       "       [0.78251753, 0.21748247],\n",
       "       [0.94602969, 0.05397031],\n",
       "       [0.15998159, 0.84001841],\n",
       "       [0.32713839, 0.67286161],\n",
       "       [0.15047025, 0.84952975],\n",
       "       [0.66639429, 0.33360571],\n",
       "       [0.83093808, 0.16906192],\n",
       "       [0.98299287, 0.01700713],\n",
       "       [0.91402804, 0.08597196],\n",
       "       [0.06362005, 0.93637995],\n",
       "       [0.99105795, 0.00894205],\n",
       "       [0.11740713, 0.88259287],\n",
       "       [0.77855221, 0.22144779],\n",
       "       [0.86751345, 0.13248655],\n",
       "       [0.760745  , 0.239255  ],\n",
       "       [0.98913216, 0.01086784],\n",
       "       [0.84897976, 0.15102024],\n",
       "       [0.21745525, 0.78254475],\n",
       "       [0.52200174, 0.47799826],\n",
       "       [0.16247427, 0.83752573],\n",
       "       [0.76947489, 0.23052511],\n",
       "       [0.94540717, 0.05459283],\n",
       "       [0.75420146, 0.24579854],\n",
       "       [0.1618302 , 0.8381698 ],\n",
       "       [0.52405052, 0.47594948],\n",
       "       [0.08682778, 0.91317222],\n",
       "       [0.58434533, 0.41565467],\n",
       "       [0.44308609, 0.55691391],\n",
       "       [0.16172835, 0.83827165],\n",
       "       [0.23466481, 0.76533519],\n",
       "       [0.68218469, 0.31781531],\n",
       "       [0.48357136, 0.51642864],\n",
       "       [0.20375254, 0.79624746],\n",
       "       [0.96253757, 0.03746243],\n",
       "       [0.8656095 , 0.1343905 ],\n",
       "       [0.05674835, 0.94325165],\n",
       "       [0.19093964, 0.80906036],\n",
       "       [0.18984936, 0.81015064],\n",
       "       [0.25637513, 0.74362487],\n",
       "       [0.98807094, 0.01192906],\n",
       "       [0.95387143, 0.04612857],\n",
       "       [0.31742067, 0.68257933]])"
      ]
     },
     "execution_count": 16,
     "metadata": {},
     "output_type": "execute_result"
    }
   ],
   "source": [
    "model.predict_proba(X_test)"
   ]
  },
  {
   "cell_type": "code",
   "execution_count": 17,
   "metadata": {},
   "outputs": [
    {
     "data": {
      "text/plain": [
       "array([0.09658327, 0.34853889, 0.37661541, 0.76730617, 0.29078466,\n",
       "       0.73905773, 0.61447591, 0.69190424, 0.90881205, 0.15038376,\n",
       "       0.94946703, 0.1647119 , 0.58157722, 0.85762688, 0.19200286,\n",
       "       0.83755702, 0.14733265, 0.00534876, 0.6422537 , 0.21748247,\n",
       "       0.05397031, 0.84001841, 0.67286161, 0.84952975, 0.33360571,\n",
       "       0.16906192, 0.01700713, 0.08597196, 0.93637995, 0.00894205,\n",
       "       0.88259287, 0.22144779, 0.13248655, 0.239255  , 0.01086784,\n",
       "       0.15102024, 0.78254475, 0.47799826, 0.83752573, 0.23052511,\n",
       "       0.05459283, 0.24579854, 0.8381698 , 0.47594948, 0.91317222,\n",
       "       0.41565467, 0.55691391, 0.83827165, 0.76533519, 0.31781531,\n",
       "       0.51642864, 0.79624746, 0.03746243, 0.1343905 , 0.94325165,\n",
       "       0.80906036, 0.81015064, 0.74362487, 0.01192906, 0.04612857,\n",
       "       0.68257933])"
      ]
     },
     "execution_count": 17,
     "metadata": {},
     "output_type": "execute_result"
    }
   ],
   "source": [
    "#每个样本模型预测它患心脏病的置信度\n",
    "model.predict_proba(X_test)[:,1]"
   ]
  },
  {
   "cell_type": "code",
   "execution_count": 18,
   "metadata": {},
   "outputs": [],
   "source": [
    "#将定性与定量结果存储\n",
    "y_pred=model.predict(X_test)\n",
    "y_pred_proba=model.predict_proba(X_test)"
   ]
  },
  {
   "cell_type": "code",
   "execution_count": 20,
   "metadata": {},
   "outputs": [
    {
     "data": {
      "text/plain": [
       "array([0, 0, 0, 1, 0, 1, 1, 1, 1, 0, 1, 0, 1, 1, 0, 1, 0, 0, 1, 0, 0, 1,\n",
       "       1, 1, 0, 0, 0, 0, 1, 0, 1, 0, 0, 0, 0, 0, 1, 0, 1, 0, 0, 0, 1, 0,\n",
       "       1, 0, 1, 1, 1, 0, 1, 1, 0, 0, 1, 1, 1, 1, 0, 0, 1], dtype=int64)"
      ]
     },
     "execution_count": 20,
     "metadata": {},
     "output_type": "execute_result"
    }
   ],
   "source": [
    "#模型预测结果\n",
    "y_pred"
   ]
  },
  {
   "cell_type": "code",
   "execution_count": 21,
   "metadata": {},
   "outputs": [
    {
     "data": {
      "text/plain": [
       "246    0\n",
       "183    0\n",
       "229    0\n",
       "126    1\n",
       "184    0\n",
       "      ..\n",
       "277    0\n",
       "121    1\n",
       "187    0\n",
       "301    0\n",
       "283    0\n",
       "Name: target, Length: 61, dtype: int64"
      ]
     },
     "execution_count": 21,
     "metadata": {},
     "output_type": "execute_result"
    }
   ],
   "source": [
    "y_test"
   ]
  },
  {
   "cell_type": "code",
   "execution_count": 22,
   "metadata": {},
   "outputs": [],
   "source": [
    "#将测试结果与真实结果进行比较得到 混淆矩阵\n",
    "from sklearn.metrics import confusion_matrix\n",
    "confusion_matrix_model=confusion_matrix(y_test,y_pred)"
   ]
  },
  {
   "cell_type": "code",
   "execution_count": 23,
   "metadata": {},
   "outputs": [
    {
     "data": {
      "text/plain": [
       "array([[28,  7],\n",
       "       [ 4, 22]], dtype=int64)"
      ]
     },
     "execution_count": 23,
     "metadata": {},
     "output_type": "execute_result"
    }
   ],
   "source": [
    "confusion_matrix_model"
   ]
  },
  {
   "cell_type": "code",
   "execution_count": 33,
   "metadata": {},
   "outputs": [],
   "source": [
    "#绘制混淆矩阵\n",
    "import itertools\n",
    "def cnf_matrix_plotter(cm,classes):\n",
    "    plt.imshow(cm,interpolation='nearest',cmap=plt.cm.Oranges)\n",
    "    plt.title('confusion_matrix')\n",
    "    plt.colorbar()\n",
    "    tick_marks=np.arange(len(classes))\n",
    "    plt.xticks(tick_marks,classes,rotation=45)\n",
    "    plt.yticks(tick_marks,classes)\n",
    "    \n",
    "    threshold=cm.max()/2.\n",
    "    for i,j in itertools.product(range(cm.shape[0]),range(cm.shape[1])):\n",
    "        plt.text(j,i,cm[i,j],\n",
    "                 horizontalalignment='center',\n",
    "                 color='white'if cm[i,j]> threshold else 'black',\n",
    "                 fontsize=25)\n",
    "    plt.tight_layout()\n",
    "    plt.ylabel('true label')\n",
    "    plt.xlabel('predicted label')\n",
    "    plt.show()"
   ]
  },
  {
   "cell_type": "code",
   "execution_count": 34,
   "metadata": {},
   "outputs": [
    {
     "data": {
      "image/png": "[encoded data removed]",
      "text/plain": [
       "<Figure size 432x288 with 2 Axes>"
      ]
     },
     "metadata": {
      "needs_background": "light"
     },
     "output_type": "display_data"
    }
   ],
   "source": [
    "cnf_matrix_plotter(confusion_matrix_model,['healthy','disease'])\n",
    "#每一行表示真实数据 每一列表示预测结果\n",
    "#其中4表示真实得病但被模型预测为健康，数值较小，表明模型比较好"
   ]
  },
  {
   "cell_type": "code",
   "execution_count": 36,
   "metadata": {},
   "outputs": [
    {
     "name": "stdout",
     "output_type": "stream",
     "text": [
      "              precision    recall  f1-score   support\n",
      "\n",
      "     healthy       0.88      0.80      0.84        35\n",
      "     disease       0.76      0.85      0.80        26\n",
      "\n",
      "    accuracy                           0.82        61\n",
      "   macro avg       0.82      0.82      0.82        61\n",
      "weighted avg       0.83      0.82      0.82        61\n",
      "\n"
     ]
    }
   ],
   "source": [
    "#计算各类的precision、recall、f1-score、support\n",
    "from sklearn.metrics import  classification_report\n",
    "print(classification_report(y_test,y_pred,target_names=['healthy','disease']))"
   ]
  },
  {
   "cell_type": "markdown",
   "metadata": {},
   "source": [
    "# 对定量结果进行定量分析\n",
    "## ROC曲线"
   ]
  },
  {
   "cell_type": "code",
   "execution_count": 37,
   "metadata": {},
   "outputs": [
    {
     "data": {
      "text/plain": [
       "array([[0.90341673, 0.09658327],\n",
       "       [0.65146111, 0.34853889],\n",
       "       [0.62338459, 0.37661541],\n",
       "       [0.23269383, 0.76730617],\n",
       "       [0.70921534, 0.29078466],\n",
       "       [0.26094227, 0.73905773],\n",
       "       [0.38552409, 0.61447591],\n",
       "       [0.30809576, 0.69190424],\n",
       "       [0.09118795, 0.90881205],\n",
       "       [0.84961624, 0.15038376],\n",
       "       [0.05053297, 0.94946703],\n",
       "       [0.8352881 , 0.1647119 ],\n",
       "       [0.41842278, 0.58157722],\n",
       "       [0.14237312, 0.85762688],\n",
       "       [0.80799714, 0.19200286],\n",
       "       [0.16244298, 0.83755702],\n",
       "       [0.85266735, 0.14733265],\n",
       "       [0.99465124, 0.00534876],\n",
       "       [0.3577463 , 0.6422537 ],\n",
       "       [0.78251753, 0.21748247],\n",
       "       [0.94602969, 0.05397031],\n",
       "       [0.15998159, 0.84001841],\n",
       "       [0.32713839, 0.67286161],\n",
       "       [0.15047025, 0.84952975],\n",
       "       [0.66639429, 0.33360571],\n",
       "       [0.83093808, 0.16906192],\n",
       "       [0.98299287, 0.01700713],\n",
       "       [0.91402804, 0.08597196],\n",
       "       [0.06362005, 0.93637995],\n",
       "       [0.99105795, 0.00894205],\n",
       "       [0.11740713, 0.88259287],\n",
       "       [0.77855221, 0.22144779],\n",
       "       [0.86751345, 0.13248655],\n",
       "       [0.760745  , 0.239255  ],\n",
       "       [0.98913216, 0.01086784],\n",
       "       [0.84897976, 0.15102024],\n",
       "       [0.21745525, 0.78254475],\n",
       "       [0.52200174, 0.47799826],\n",
       "       [0.16247427, 0.83752573],\n",
       "       [0.76947489, 0.23052511],\n",
       "       [0.94540717, 0.05459283],\n",
       "       [0.75420146, 0.24579854],\n",
       "       [0.1618302 , 0.8381698 ],\n",
       "       [0.52405052, 0.47594948],\n",
       "       [0.08682778, 0.91317222],\n",
       "       [0.58434533, 0.41565467],\n",
       "       [0.44308609, 0.55691391],\n",
       "       [0.16172835, 0.83827165],\n",
       "       [0.23466481, 0.76533519],\n",
       "       [0.68218469, 0.31781531],\n",
       "       [0.48357136, 0.51642864],\n",
       "       [0.20375254, 0.79624746],\n",
       "       [0.96253757, 0.03746243],\n",
       "       [0.8656095 , 0.1343905 ],\n",
       "       [0.05674835, 0.94325165],\n",
       "       [0.19093964, 0.80906036],\n",
       "       [0.18984936, 0.81015064],\n",
       "       [0.25637513, 0.74362487],\n",
       "       [0.98807094, 0.01192906],\n",
       "       [0.95387143, 0.04612857],\n",
       "       [0.31742067, 0.68257933]])"
      ]
     },
     "execution_count": 37,
     "metadata": {},
     "output_type": "execute_result"
    }
   ],
   "source": [
    "model.predict_proba(X_test)"
   ]
  },
  {
   "cell_type": "code",
   "execution_count": 38,
   "metadata": {},
   "outputs": [
    {
     "data": {
      "text/plain": [
       "array([0.09658327, 0.34853889, 0.37661541, 0.76730617, 0.29078466,\n",
       "       0.73905773, 0.61447591, 0.69190424, 0.90881205, 0.15038376,\n",
       "       0.94946703, 0.1647119 , 0.58157722, 0.85762688, 0.19200286,\n",
       "       0.83755702, 0.14733265, 0.00534876, 0.6422537 , 0.21748247,\n",
       "       0.05397031, 0.84001841, 0.67286161, 0.84952975, 0.33360571,\n",
       "       0.16906192, 0.01700713, 0.08597196, 0.93637995, 0.00894205,\n",
       "       0.88259287, 0.22144779, 0.13248655, 0.239255  , 0.01086784,\n",
       "       0.15102024, 0.78254475, 0.47799826, 0.83752573, 0.23052511,\n",
       "       0.05459283, 0.24579854, 0.8381698 , 0.47594948, 0.91317222,\n",
       "       0.41565467, 0.55691391, 0.83827165, 0.76533519, 0.31781531,\n",
       "       0.51642864, 0.79624746, 0.03746243, 0.1343905 , 0.94325165,\n",
       "       0.80906036, 0.81015064, 0.74362487, 0.01192906, 0.04612857,\n",
       "       0.68257933])"
      ]
     },
     "execution_count": 38,
     "metadata": {},
     "output_type": "execute_result"
    }
   ],
   "source": [
    "#每个样本模型预测它患心脏病的置信度\n",
    "model.predict_proba(X_test)[:,1]"
   ]
  },
  {
   "cell_type": "code",
   "execution_count": 39,
   "metadata": {},
   "outputs": [],
   "source": [
    "y_pred_quant=model.predict_proba(X_test)[:,1]"
   ]
  },
  {
   "cell_type": "code",
   "execution_count": 40,
   "metadata": {},
   "outputs": [],
   "source": [
    "from sklearn.metrics import roc_curve,auc\n",
    "\n",
    "fpr,tpr,thresholds=roc_curve(y_test,y_pred_quant)"
   ]
  },
  {
   "cell_type": "code",
   "execution_count": 41,
   "metadata": {},
   "outputs": [
    {
     "data": {
      "text/plain": [
       "array([0.        , 0.        , 0.        , 0.02857143, 0.02857143,\n",
       "       0.11428571, 0.11428571, 0.37142857, 0.37142857, 0.42857143,\n",
       "       0.42857143, 0.45714286, 0.45714286, 0.8       , 0.8       ,\n",
       "       1.        ])"
      ]
     },
     "execution_count": 41,
     "metadata": {},
     "output_type": "execute_result"
    }
   ],
   "source": [
    "fpr"
   ]
  },
  {
   "cell_type": "code",
   "execution_count": 42,
   "metadata": {},
   "outputs": [
    {
     "data": {
      "text/plain": [
       "array([0.        , 0.03846154, 0.5       , 0.5       , 0.76923077,\n",
       "       0.76923077, 0.84615385, 0.84615385, 0.88461538, 0.88461538,\n",
       "       0.92307692, 0.92307692, 0.96153846, 0.96153846, 1.        ,\n",
       "       1.        ])"
      ]
     },
     "execution_count": 42,
     "metadata": {},
     "output_type": "execute_result"
    }
   ],
   "source": [
    "tpr"
   ]
  },
  {
   "cell_type": "code",
   "execution_count": 43,
   "metadata": {},
   "outputs": [
    {
     "data": {
      "text/plain": [
       "array([1.94946703, 0.94946703, 0.83752573, 0.81015064, 0.73905773,\n",
       "       0.67286161, 0.61447591, 0.33360571, 0.31781531, 0.24579854,\n",
       "       0.239255  , 0.23052511, 0.22144779, 0.05459283, 0.05397031,\n",
       "       0.00534876])"
      ]
     },
     "execution_count": 43,
     "metadata": {},
     "output_type": "execute_result"
    }
   ],
   "source": [
    "thresholds"
   ]
  },
  {
   "cell_type": "code",
   "execution_count": 44,
   "metadata": {},
   "outputs": [
    {
     "data": {
      "image/png": "[encoded data removed]",
      "text/plain": [
       "<Figure size 432x288 with 1 Axes>"
      ]
     },
     "metadata": {
      "needs_background": "light"
     },
     "output_type": "display_data"
    }
   ],
   "source": [
    "#绘制roc曲线\n",
    "plt.plot(fpr,tpr)\n",
    "plt.plot([0,1],[0,1],ls=\"--\",c=\".3\")\n",
    "plt.xlim([0.0,1.0])\n",
    "plt.ylim([0.0,1.0])\n",
    "plt.rcParams['font.size']=12\n",
    "plt.title('ROC curve')\n",
    "plt.xlabel('false positive rate(1-specificity)')\n",
    "plt.ylabel('true positive rate(sensitivity)')\n",
    "plt.grid(True)\n",
    "           "
   ]
  },
  {
   "cell_type": "code",
   "execution_count": 45,
   "metadata": {},
   "outputs": [
    {
     "data": {
      "text/plain": [
       "0.9043956043956045"
      ]
     },
     "execution_count": 45,
     "metadata": {},
     "output_type": "execute_result"
    }
   ],
   "source": [
    "auc(fpr,tpr)"
   ]
  },
  {
   "cell_type": "code",
   "execution_count": null,
   "metadata": {},
   "outputs": [],
   "source": []
  }
 ],
 "metadata": {
  "kernelspec": {
   "display_name": "Python 3",
   "language": "python",
   "name": "python3"
  },
  "language_info": {
   "codemirror_mode": {
    "name": "ipython",
    "version": 3
   },
   "file_extension": ".py",
   "mimetype": "text/x-python",
   "name": "python",
   "nbconvert_exporter": "python",
   "pygments_lexer": "ipython3",
   "version": "3.7.0"
  }
 },
 "nbformat": 4,
 "nbformat_minor": 2
}
